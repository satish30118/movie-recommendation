{
 "cells": [
  {
   "cell_type": "code",
   "execution_count": 3,
   "id": "0a28121b",
   "metadata": {},
   "outputs": [],
   "source": [
    "import pandas as pd\n",
    "import numpy as np\n",
    "import tensorflow as tf\n",
    "import text_normalizer as tn\n",
    "import matplotlib.pyplot as plt\n",
    "import seaborn as sns\n",
    "import tokenizer_vectorizer as tkvc\n",
    "import movie_recommender as mr\n",
    "import posters as ps\n",
    "import emotion_detector as ed"
   ]
  },
  {
   "cell_type": "code",
   "execution_count": 4,
   "id": "bc095387",
   "metadata": {},
   "outputs": [
    {
     "data": {
      "text/plain": [
       "['__builtins__',\n",
       " '__cached__',\n",
       " '__doc__',\n",
       " '__file__',\n",
       " '__loader__',\n",
       " '__name__',\n",
       " '__package__',\n",
       " '__spec__',\n",
       " 'emotion_classifier',\n",
       " 'extract_features',\n",
       " 'get_audio',\n",
       " 'librosa',\n",
       " 'load_model',\n",
       " 'np',\n",
       " 'pd',\n",
       " 'pyaudio',\n",
       " 'resize',\n",
       " 'tensorflow',\n",
       " 'wave',\n",
       " 'zoom']"
      ]
     },
     "execution_count": 4,
     "metadata": {},
     "output_type": "execute_result"
    }
   ],
   "source": [
    "dir(ed)"
   ]
  },
  {
   "cell_type": "code",
   "execution_count": 2,
   "id": "9eafcbb9",
   "metadata": {},
   "outputs": [],
   "source": [
    "model=tf.keras.saving.load_model(\"text_based_emotion_classifier.h5\")"
   ]
  },
  {
   "cell_type": "code",
   "execution_count": 38,
   "id": "472e9532",
   "metadata": {},
   "outputs": [],
   "source": [
    "text=\"getting scared\""
   ]
  },
  {
   "cell_type": "code",
   "execution_count": 39,
   "id": "faea81c6",
   "metadata": {},
   "outputs": [],
   "source": [
    "x=tn.normalize(text)"
   ]
  },
  {
   "cell_type": "code",
   "execution_count": 40,
   "id": "55e043fb",
   "metadata": {},
   "outputs": [],
   "source": [
    "x=tkvc.tok_vectorizer(x)"
   ]
  },
  {
   "cell_type": "code",
   "execution_count": 41,
   "id": "5308c1fe",
   "metadata": {},
   "outputs": [
    {
     "name": "stdout",
     "output_type": "stream",
     "text": [
      "1/1 [==============================] - 0s 47ms/step\n"
     ]
    }
   ],
   "source": [
    "a=model.predict(x)"
   ]
  },
  {
   "cell_type": "code",
   "execution_count": 42,
   "id": "82bfe281",
   "metadata": {},
   "outputs": [
    {
     "data": {
      "text/plain": [
       "array([0.15294398, 0.02703655, 0.08272285, 0.5341125 , 0.13992348,\n",
       "       0.06326058], dtype=float32)"
      ]
     },
     "execution_count": 42,
     "metadata": {},
     "output_type": "execute_result"
    }
   ],
   "source": [
    "a[0]"
   ]
  },
  {
   "cell_type": "code",
   "execution_count": 43,
   "id": "f63b1aad",
   "metadata": {},
   "outputs": [],
   "source": [
    "mood=np.argmax(a[0],axis=0)"
   ]
  },
  {
   "cell_type": "code",
   "execution_count": 48,
   "id": "f31bea84",
   "metadata": {},
   "outputs": [
    {
     "name": "stdout",
     "output_type": "stream",
     "text": [
      "What do you want to see: Movie or TV series?\n",
      "Movie\n"
     ]
    }
   ],
   "source": [
    "results=mr.recommend_movies(mood)"
   ]
  },
  {
   "cell_type": "code",
   "execution_count": 49,
   "id": "348fd768",
   "metadata": {},
   "outputs": [
    {
     "name": "stdout",
     "output_type": "stream",
     "text": [
      "                        title  rating  \\\n",
      "47                      Beega     9.9   \n",
      "41                Nee Jathaga     9.8   \n",
      "66              Dooradarshana     9.6   \n",
      "12                  The Extra     9.3   \n",
      "49                 Long Drive     9.2   \n",
      "28               Satvut Advut     9.1   \n",
      "32                      Cycle     9.1   \n",
      "55               Crazy Uncles     9.1   \n",
      "462                 Mayabazar     9.1   \n",
      "64   Kadala Theerada Bhargava     9.0   \n",
      "\n",
      "                                           description  releaseYear  \n",
      "47                                        Add a Plot\\n         2023  \n",
      "41   Sahastra ( protagonist) has everything in her ...         2021  \n",
      "66   The narration of this subject deals with 1980'...         2023  \n",
      "12   We follow a movie extra's performances in seve...         2000  \n",
      "49   A couple, and two friends, who go through some...         2023  \n",
      "28   Good friends Biltu and Rana were publicly hara...         2022  \n",
      "32   Two teenage boys of same thoughts are facing s...         2021  \n",
      "55   Three middle aged, rich uncles who are unsatif...         2021  \n",
      "462  Balarama promises Subhadra to get his daughter...         1957  \n",
      "64                                        Add a Plot\\n         2023  \n"
     ]
    }
   ],
   "source": [
    "print(results)"
   ]
  },
  {
   "cell_type": "code",
   "execution_count": 50,
   "id": "96a14c2e",
   "metadata": {},
   "outputs": [],
   "source": [
    "results1= results.reset_index(drop=True)"
   ]
  },
  {
   "cell_type": "code",
   "execution_count": 51,
   "id": "ac752102",
   "metadata": {},
   "outputs": [
    {
     "data": {
      "text/plain": [
       "'Beega'"
      ]
     },
     "execution_count": 51,
     "metadata": {},
     "output_type": "execute_result"
    }
   ],
   "source": [
    "results1[\"title\"][0]"
   ]
  },
  {
   "cell_type": "code",
   "execution_count": 53,
   "id": "dac6c64e",
   "metadata": {},
   "outputs": [
    {
     "data": {
      "text/html": [
       "<img src=\"https://encrypted-tbn0.gstatic.com/images?q=tbn:ANd9GcTvlZ1RB5NQ4EKejb8mwACPKSdmQjRH-kL7Rb8gaX6BNKWUTkFpmaW7kv-nZQ&s\"/>"
      ],
      "text/plain": [
       "<IPython.core.display.Image object>"
      ]
     },
     "metadata": {},
     "output_type": "display_data"
    },
    {
     "name": "stdout",
     "output_type": "stream",
     "text": [
      "Title: Beega\n",
      "Rating: 9.9\n",
      "Release Year: 2023\n",
      "Description: Add a Plot\n",
      "\n"
     ]
    },
    {
     "data": {
      "text/html": [
       "<img src=\"https://encrypted-tbn0.gstatic.com/images?q=tbn:ANd9GcRGBDiqyrF6vhtZXE6z4uq-hmLhDaIb-BMTJW9auxSsAXi7EYjCKXM5ZYkblA&s\"/>"
      ],
      "text/plain": [
       "<IPython.core.display.Image object>"
      ]
     },
     "metadata": {},
     "output_type": "display_data"
    },
    {
     "name": "stdout",
     "output_type": "stream",
     "text": [
      "Title: Nee Jathaga\n",
      "Rating: 9.8\n",
      "Release Year: 2021\n",
      "Description: Sahastra ( protagonist) has everything in her life like good parents, education and job except excitement . So that she is curious to explore new things . In order she went to three days trekking.\n"
     ]
    },
    {
     "data": {
      "text/html": [
       "<img src=\"https://encrypted-tbn0.gstatic.com/images?q=tbn:ANd9GcTVtCWsfhdWhP99w4LSxB3UvQfW7oaChJuUbDsue37hJ5rbTkV1HBQ0dHEfYw&s\"/>"
      ],
      "text/plain": [
       "<IPython.core.display.Image object>"
      ]
     },
     "metadata": {},
     "output_type": "display_data"
    },
    {
     "name": "stdout",
     "output_type": "stream",
     "text": [
      "Title: Dooradarshana\n",
      "Rating: 9.6\n",
      "Release Year: 2023\n",
      "Description: The narration of this subject deals with 1980's era with a beauty of the environment particularly from 1986 to 1987 time period and the realistic current affairs are shown with exact ...                 »\n",
      "\n"
     ]
    },
    {
     "data": {
      "text/html": [
       "<img src=\"https://encrypted-tbn0.gstatic.com/images?q=tbn:ANd9GcTgpdXWgdQWLvZJE0zkAdP5rqcZKWINx3NPG761q8-HyT70NlZ6qBITRP3Yk-g&s\"/>"
      ],
      "text/plain": [
       "<IPython.core.display.Image object>"
      ]
     },
     "metadata": {},
     "output_type": "display_data"
    },
    {
     "name": "stdout",
     "output_type": "stream",
     "text": [
      "Title: The Extra\n",
      "Rating: 9.3\n",
      "Release Year: 2000\n",
      "Description: We follow a movie extra's performances in several films.\n"
     ]
    }
   ],
   "source": [
    "posters=[]\n",
    "for i in range(0,4):\n",
    "    posters.append(ps.get_images(results1[\"title\"][i]))\n",
    "    print(\"Title:\",results1['title'][i])\n",
    "    print(\"Rating:\",results1['rating'][i])\n",
    "    print(\"Release Year:\",results1['releaseYear'][i])\n",
    "    print(\"Description:\",results1['description'][i])"
   ]
  },
  {
   "cell_type": "code",
   "execution_count": 5,
   "id": "ba6eb2a6",
   "metadata": {},
   "outputs": [
    {
     "name": "stdout",
     "output_type": "stream",
     "text": [
      "Recording started\n",
      "Recording stopped\n"
     ]
    }
   ],
   "source": [
    "mood1=ed.get_audio()"
   ]
  },
  {
   "cell_type": "code",
   "execution_count": 8,
   "id": "8a33af21",
   "metadata": {},
   "outputs": [
    {
     "data": {
      "text/plain": [
       "3"
      ]
     },
     "execution_count": 8,
     "metadata": {},
     "output_type": "execute_result"
    }
   ],
   "source": [
    "mood1[0]"
   ]
  },
  {
   "cell_type": "code",
   "execution_count": 13,
   "id": "37d920a0",
   "metadata": {},
   "outputs": [],
   "source": [
    "'''angry-1\n",
    "fear-2\n",
    "happy-3\n",
    "sad-4'''\n",
    "'''\n",
    "in our model , 0-sad,1-happy, 3-angry, 4-fear'''\n",
    "if(mood1[0]==1):\n",
    "    mood1[0]=3\n",
    "if(mood1[0]==2):\n",
    "    mood1=4\n",
    "if(mood1[0]==3):\n",
    "    mood1[0]=1\n",
    "if(mood1[0]==4):\n",
    "    mood1[0]=0"
   ]
  },
  {
   "cell_type": "code",
   "execution_count": 14,
   "id": "b3bb561b",
   "metadata": {},
   "outputs": [
    {
     "name": "stdout",
     "output_type": "stream",
     "text": [
      "What do you want to see: Movie or TV series?\n",
      "Movie\n"
     ]
    }
   ],
   "source": [
    "results1=mr.recommend_movies(mood1[0])"
   ]
  },
  {
   "cell_type": "code",
   "execution_count": 15,
   "id": "06d06518",
   "metadata": {},
   "outputs": [],
   "source": [
    "results2=results1.reset_index(drop=True)"
   ]
  },
  {
   "cell_type": "code",
   "execution_count": 16,
   "id": "f89371b4",
   "metadata": {},
   "outputs": [
    {
     "data": {
      "text/html": [
       "<img src=\"https://encrypted-tbn0.gstatic.com/images?q=tbn:ANd9GcRuRugSV2xA4WgZKMjaWCG6NVJkZxDv0DCVVmR065IUPJtCJV1vxESgBUBUGn4&s\"/>"
      ],
      "text/plain": [
       "<IPython.core.display.Image object>"
      ]
     },
     "metadata": {},
     "output_type": "display_data"
    },
    {
     "name": "stdout",
     "output_type": "stream",
     "text": [
      "Title: Shubh Nikah\n",
      "Rating: 10.0\n",
      "Release Year: 2023\n",
      "Description: Families of two different cultures join hands and come together for love, humanity, and peace with a strong message of national integrity\n"
     ]
    },
    {
     "data": {
      "text/html": [
       "<img src=\"https://encrypted-tbn0.gstatic.com/images?q=tbn:ANd9GcRFJKWDbCDm7vc95xscwONjF4SygJQxomo80Ff5au0_a--KrONPqy1mea6siMs&s\"/>"
      ],
      "text/plain": [
       "<IPython.core.display.Image object>"
      ]
     },
     "metadata": {},
     "output_type": "display_data"
    },
    {
     "name": "stdout",
     "output_type": "stream",
     "text": [
      "Title: Jewelry of India\n",
      "Rating: 9.8\n",
      "Release Year: 2021\n",
      "Description: Mother India is home to many castes, tribes and religions and one common factor that brings this diverse country all together is Jewelry. Come explore the deep history and culture of the ...                 »\n",
      "\n"
     ]
    },
    {
     "data": {
      "text/html": [
       "<img src=\"https://encrypted-tbn0.gstatic.com/images?q=tbn:ANd9GcR0eJhbJuUCiFmLKulHhhSXWqe4gPLxWw52yHoOIOuQMAhr0AxEnFLFClGS0w&s\"/>"
      ],
      "text/plain": [
       "<IPython.core.display.Image object>"
      ]
     },
     "metadata": {},
     "output_type": "display_data"
    },
    {
     "name": "stdout",
     "output_type": "stream",
     "text": [
      "Title: Dosed: The Trip of a Lifetime\n",
      "Rating: 9.8\n",
      "Release Year: 2022\n",
      "Description: A loving mother is granted the legal right for medical use of magic mushrooms. She then embarks on a courageous journey of personal transformation and healing, exploring possible cures for cancer, like cannabis oil.\n"
     ]
    },
    {
     "data": {
      "text/html": [
       "<img src=\"https://encrypted-tbn0.gstatic.com/images?q=tbn:ANd9GcQ9JGOejQpCInJx5vbUB5rKQymHG0646vMrIrv0VcmtYD91wTdkxYlRsW-fTg&s\"/>"
      ],
      "text/plain": [
       "<IPython.core.display.Image object>"
      ]
     },
     "metadata": {},
     "output_type": "display_data"
    },
    {
     "name": "stdout",
     "output_type": "stream",
     "text": [
      "Title: Richiegadipelli\n",
      "Rating: 9.8\n",
      "Release Year: 2023\n",
      "Description: On the night before the wedding, everyone is gathered to celebrate in the privacy of a luxury patio. At the dinner table, LP suggests they play a unique game of truth or dare. With their ...                 »\n",
      "\n"
     ]
    }
   ],
   "source": [
    "posters=[]\n",
    "for i in range(0,4):\n",
    "    posters.append(ps.get_images(results2[\"title\"][i]))\n",
    "    print(\"Title:\",results2['title'][i])\n",
    "    print(\"Rating:\",results2['rating'][i])\n",
    "    print(\"Release Year:\",results2['releaseYear'][i])\n",
    "    print(\"Description:\",results2['description'][i])"
   ]
  },
  {
   "cell_type": "code",
   "execution_count": null,
   "id": "217a0a42",
   "metadata": {},
   "outputs": [],
   "source": []
  }
 ],
 "metadata": {
  "kernelspec": {
   "display_name": "Python 3 (ipykernel)",
   "language": "python",
   "name": "python3"
  },
  "language_info": {
   "codemirror_mode": {
    "name": "ipython",
    "version": 3
   },
   "file_extension": ".py",
   "mimetype": "text/x-python",
   "name": "python",
   "nbconvert_exporter": "python",
   "pygments_lexer": "ipython3",
   "version": "3.11.3"
  }
 },
 "nbformat": 4,
 "nbformat_minor": 5
}
